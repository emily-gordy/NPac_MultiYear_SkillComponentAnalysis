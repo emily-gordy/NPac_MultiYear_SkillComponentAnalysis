{
 "cells": [
  {
   "cell_type": "code",
   "execution_count": 1,
   "id": "fc3acd1a-1204-4f5b-ada4-e5b991ce8cd9",
   "metadata": {},
   "outputs": [],
   "source": [
    "import xarray as xr\n",
    "import glob\n",
    "import numpy as np\n",
    "\n",
    "import tensorflow as tf\n",
    "import tensorflow_probability as tfp\n",
    "\n",
    "from scipy.stats import norm\n",
    "from scipy.stats import pearsonr\n",
    "from scipy.linalg import eig\n",
    "from scipy.stats import skew, skewtest, percentileofscore\n",
    "\n",
    "import matplotlib.pyplot as plt\n",
    "import matplotlib as mpl\n",
    "from cartopy.util import add_cyclic_point\n",
    "import cartopy.crs as ccrs\n",
    "import cartopy.feature as cfeature\n",
    "from matplotlib import colors\n",
    "import cmasher as cmr\n",
    "\n",
    "import sys\n",
    "sys.path.append(\"functions/\")\n",
    "\n",
    "import preprocessing\n",
    "import experiment_settings\n",
    "import build_model\n",
    "import metricplots\n",
    "import allthelinalg\n",
    "import analysisplots\n",
    "#import modelandmetrics\n",
    "\n",
    "import importlib as imp\n",
    "\n",
    "# pretty plots\n",
    "mpl.rcParams['figure.facecolor'] = 'white'\n",
    "mpl.rcParams['figure.dpi'] = 150\n",
    "mpl.rcParams['font.family'] = 'sans-serif'\n",
    "mpl.rcParams['font.size'] = 12\n",
    "mpl.rcParams['font.sans-serif']=['Verdana']\n",
    "\n",
    "params = {\"ytick.color\": \"k\",\n",
    "          \"xtick.color\": \"k\",\n",
    "          \"axes.labelcolor\": \"k\",\n",
    "          \"axes.edgecolor\": \"k\"}\n",
    "plt.rcParams.update(params)"
   ]
  },
  {
   "cell_type": "code",
   "execution_count": 49,
   "id": "4e559899-e0a8-4038-a83e-32ea88aa46bd",
   "metadata": {},
   "outputs": [
    {
     "data": {
      "text/plain": [
       "<module 'analysisplots' from '/Users/egordon4/Documents/Experiments/NPac_MultiYear_SkillComponentAnalysis/functions/analysisplots.py'>"
      ]
     },
     "execution_count": 49,
     "metadata": {},
     "output_type": "execute_result"
    }
   ],
   "source": [
    "imp.reload(preprocessing)\n",
    "imp.reload(experiment_settings)\n",
    "imp.reload(build_model)\n",
    "imp.reload(metricplots)\n",
    "imp.reload(allthelinalg)\n",
    "imp.reload(analysisplots)"
   ]
  },
  {
   "cell_type": "code",
   "execution_count": 3,
   "id": "a43a65d8-7e1c-4d6b-973f-a6934a6939a2",
   "metadata": {},
   "outputs": [],
   "source": [
    "source = \"ERSST\" # \"ERSST\" or \"HadISST\""
   ]
  },
  {
   "cell_type": "code",
   "execution_count": 4,
   "id": "fb3c6644-bb5a-496a-8267-a065413019c8",
   "metadata": {},
   "outputs": [],
   "source": [
    "modelpath = \"models/\"\n",
    "experiment_name = \"allcmodel-tos_allcmodel-tos_1-5yearlead_leaveoneout\"\n",
    "experiment_dict = experiment_settings.get_experiment_settings(experiment_name)\n",
    "filefront = experiment_dict[\"filename\"]\n",
    "filename = modelpath + experiment_dict[\"filename\"]\n",
    "trainvariants = experiment_dict[\"trainvariants\"]\n",
    "valvariants = experiment_dict[\"valvariants\"]\n",
    "testvariants = experiment_dict[\"testvariants\"]\n",
    "trainvaltest = [trainvariants,valvariants,testvariants]\n",
    "\n",
    "modellist = experiment_dict[\"modellist\"]\n",
    "outbounds = experiment_dict[\"outbounds\"]\n",
    "seedlist = experiment_dict[\"seeds\"]\n",
    "run = experiment_dict[\"run\"]\n",
    "leadtime = experiment_dict[\"leadtime\"]\n",
    "year1 = 1851+run\n",
    "\n",
    "lon, lat = preprocessing.outlonxlat(experiment_dict)\n",
    "lon = np.asarray(lon)\n",
    "lat = np.asarray(lat)\n",
    "centre = (outbounds[2]+outbounds[3])/2\n",
    "projection = ccrs.EqualEarth(central_longitude=centre)\n",
    "transform = ccrs.PlateCarree()\n",
    "obsyearvec = np.arange(1870+2*run+leadtime,2023,)\n",
    "modelyearvec = np.arange(year1+2*run+leadtime,2015)\n",
    "ntestmems = len(testvariants)"
   ]
  },
  {
   "cell_type": "code",
   "execution_count": 5,
   "id": "68829331-60f3-4dbe-9d3a-67af086e1889",
   "metadata": {},
   "outputs": [
    {
     "name": "stdout",
     "output_type": "stream",
     "text": [
      "conversion done\n"
     ]
    }
   ],
   "source": [
    "data_experiment_name = \"allcmodel-tos_allcmodel-tos_1-5yearlead\"\n",
    "data_experiment_dict = experiment_settings.get_experiment_settings(data_experiment_name)\n",
    "datafilefront = data_experiment_dict[\"filename\"]\n",
    "datafile = \"processed_data/\" + datafilefront + \".npz\"\n",
    "\n",
    "datamat = np.load(datafile)\n",
    "\n",
    "allinputdata = datamat[\"allinputdata\"]\n",
    "alloutputdata = datamat[\"alloutputdata\"]\n",
    "\n",
    "inputdata,inputval,inputtest,outputdata,outputval,outputtest = preprocessing.splitandflatten(\n",
    "    allinputdata,alloutputdata,trainvaltest,experiment_dict[\"run\"])\n",
    "\n",
    "inputdata[:, np.isnan(np.mean(inputdata, axis=0))] = 0\n",
    "inputval[:, np.isnan(np.mean(inputval, axis=0))] = 0\n",
    "inputtest[:, np.isnan(np.mean(inputtest, axis=0))] = 0\n",
    "\n",
    "outputstd = np.std(outputdata, axis=0, keepdims=True)\n",
    "outputdata = outputdata/outputstd\n",
    "outputval = outputval/outputstd\n",
    "outputtest = outputtest/outputstd\n",
    "\n",
    "outputdata[:, np.isnan(np.mean(outputdata, axis=0))] = 0\n",
    "outputval[:, np.isnan(np.mean(outputval, axis=0))] = 0\n",
    "outputtest[:, np.isnan(np.mean(outputtest, axis=0))] = 0  \n",
    "\n",
    "nvars = int(len(valvariants)*len(modellist))\n",
    "nvariant = len(testvariants)\n",
    "nmodels = len(modellist)\n",
    "ntimesteps = int(len(outputtest)/(nvariant*nmodels))\n",
    "\n",
    "mask = np.copy(outputtest)\n",
    "mask[mask==0] = np.nan\n",
    "landmask = ~np.isnan(np.mean(mask,axis=0))"
   ]
  },
  {
   "cell_type": "code",
   "execution_count": 6,
   "id": "95112321-51db-44f8-b99d-e8395c0c2225",
   "metadata": {},
   "outputs": [],
   "source": [
    "inputobs,outputobs = preprocessing.make_inputoutput_obs(experiment_dict,source)\n",
    "inputobs,outputobs = preprocessing.concatobs(inputobs,outputobs,outputstd,run)"
   ]
  },
  {
   "cell_type": "code",
   "execution_count": 7,
   "id": "cd46f90a-a94c-46a7-9c8b-4f336aa40144",
   "metadata": {},
   "outputs": [],
   "source": [
    "PDOfile = \"processed_data/\" + \"PDO_\" + datafilefront + \".npz\"\n",
    "saveflag = False\n",
    "\n",
    "if saveflag:\n",
    "    PDOpatterns_singlemodel = preprocessing.PDO_pattern_singlemodel(experiment_dict)\n",
    "    PDOpattern_allmodel = preprocessing.PDO_pattern_allmodels(experiment_dict)\n",
    "    \n",
    "    np.savez(PDOfile,\n",
    "              PDOpatterns_singlemodel=PDOpatterns_singlemodel,\n",
    "              PDOpattern_allmodel=PDOpattern_allmodel,\n",
    "              )\n",
    "else:\n",
    "    \n",
    "    PDOmat = np.load(PDOfile)\n",
    "    PDOpatterns_singlemodel = PDOmat[\"PDOpatterns_singlemodel\"]\n",
    "    PDOpattern_allmodel = PDOmat[\"PDOpattern_allmodel\"]"
   ]
  },
  {
   "cell_type": "code",
   "execution_count": 21,
   "id": "5d788e52-76db-4344-a71f-e54fbee75a29",
   "metadata": {},
   "outputs": [],
   "source": [
    "# thank god i didnt name two functions \"reshapengrab\" that do two different things! that would be so annoying! \n",
    "def reshapengrab_input(mat,imodel,nvariants):\n",
    "    \n",
    "    inputshape = mat.shape\n",
    "    ntimesteps = int(inputshape[0]/(nvariants*nmodels))\n",
    "    if len(inputshape) == 3:        \n",
    "        matreshape = np.reshape(mat,(nmodels,nvariants,ntimesteps,inputshape[1],inputshape[2]))\n",
    "    else:\n",
    "        matreshape = np.reshape(mat,(nmodels,nvariants,ntimesteps,inputshape[1],inputshape[2],inputshape[3]))\n",
    "    \n",
    "    allinds = np.arange(nmodels)\n",
    "    loopinds = allinds[allinds!=imodel]\n",
    "    \n",
    "    matgrab = matreshape[loopinds]\n",
    "    if len(inputshape) == 3:\n",
    "        shapeout = (ntimesteps*(nmodels-1)*nvariants,inputshape[1],inputshape[2])\n",
    "    else:\n",
    "        shapeout = (ntimesteps*(nmodels-1)*nvariants,inputshape[1],inputshape[2],inputshape[3])\n",
    "    matout = np.reshape(matgrab,shapeout)    \n",
    "\n",
    "    return matout\n",
    "\n",
    "def reshapengrab(inputmatrix,ind,nmodels,nvariants):\n",
    "\n",
    "    # grabs all variants (nvariant) for a single climate model data (ind of nmodel) \n",
    "    inputshape = inputmatrix.shape\n",
    "    ntimesteps = int(inputshape[0]/(nmodels*nvariants))\n",
    "    if len(inputshape) == 3:        \n",
    "        intmatrix = np.reshape(inputmatrix,(nmodels,nvariants,ntimesteps,inputshape[1],inputshape[2]))\n",
    "    else:\n",
    "        intmatrix = np.reshape(inputmatrix,(nmodels,nvariants,ntimesteps,inputshape[1],inputshape[2],inputshape[3]))\n",
    "    \n",
    "    outputint = intmatrix[ind]\n",
    "    if len(inputshape) == 3:\n",
    "        shapeout = (ntimesteps*nvariants,inputshape[1],inputshape[2])\n",
    "    else:\n",
    "        shapeout = (ntimesteps*nvariants,inputshape[1],inputshape[2],inputshape[3])\n",
    "    outputmatrix = np.reshape(outputint,shapeout)    \n",
    "    \n",
    "    return outputmatrix\n"
   ]
  },
  {
   "cell_type": "code",
   "execution_count": 30,
   "id": "1aeb238d-03a8-4ec3-aef6-d72d4f5f71c6",
   "metadata": {},
   "outputs": [
    {
     "name": "stdout",
     "output_type": "stream",
     "text": [
      "  1/298 [..............................] - ETA: 12s"
     ]
    },
    {
     "name": "stderr",
     "output_type": "stream",
     "text": [
      "/var/folders/84/qffj5kdx3q15s9xdytp7r01r0000gq/T/ipykernel_70148/2894461293.py:13: RuntimeWarning: invalid value encountered in divide\n",
      "  outputdata_short = outputdata_short/outputstd_new\n",
      "/var/folders/84/qffj5kdx3q15s9xdytp7r01r0000gq/T/ipykernel_70148/2894461293.py:14: RuntimeWarning: invalid value encountered in divide\n",
      "  outputval_short = outputval_short/outputstd_new\n",
      "/var/folders/84/qffj5kdx3q15s9xdytp7r01r0000gq/T/ipykernel_70148/2894461293.py:22: RuntimeWarning: invalid value encountered in divide\n",
      "  outputtest_leftout = outputtest_leftout/outputstd_new\n"
     ]
    },
    {
     "name": "stdout",
     "output_type": "stream",
     "text": [
      "298/298 [==============================] - 1s 4ms/step\n",
      "33/33 [==============================] - 0s 5ms/step\n",
      "5/5 [==============================] - 0s 5ms/step\n",
      "298/298 [==============================] - 1s 4ms/step\n",
      "33/33 [==============================] - 0s 4ms/step\n",
      "5/5 [==============================] - 0s 4ms/step\n",
      "298/298 [==============================] - 1s 4ms/step\n",
      "33/33 [==============================] - 0s 4ms/step\n",
      "5/5 [==============================] - 0s 4ms/step\n",
      "298/298 [==============================] - 1s 4ms/step\n",
      "33/33 [==============================] - 0s 4ms/step\n",
      "5/5 [==============================] - 0s 4ms/step\n",
      "298/298 [==============================] - 1s 4ms/step\n",
      "33/33 [==============================] - 0s 4ms/step\n",
      "5/5 [==============================] - 0s 4ms/step\n",
      "298/298 [==============================] - 1s 4ms/step\n",
      "33/33 [==============================] - 0s 4ms/step\n",
      "5/5 [==============================] - 0s 4ms/step\n",
      "298/298 [==============================] - 1s 4ms/step\n",
      "33/33 [==============================] - 0s 4ms/step\n",
      "5/5 [==============================] - 0s 4ms/step\n",
      "298/298 [==============================] - 1s 4ms/step\n",
      "33/33 [==============================] - 0s 4ms/step\n",
      "5/5 [==============================] - 0s 4ms/step\n",
      "298/298 [==============================] - 1s 4ms/step\n",
      "33/33 [==============================] - 0s 4ms/step\n",
      "5/5 [==============================] - 0s 4ms/step\n",
      "298/298 [==============================] - 1s 4ms/step\n",
      "33/33 [==============================] - 0s 4ms/step\n",
      "5/5 [==============================] - 0s 4ms/step\n",
      "298/298 [==============================] - 1s 4ms/step\n",
      "33/33 [==============================] - 0s 4ms/step\n",
      "5/5 [==============================] - 0s 4ms/step\n",
      "298/298 [==============================] - 1s 4ms/step\n",
      "33/33 [==============================] - 0s 4ms/step\n",
      "5/5 [==============================] - 0s 4ms/step\n",
      "298/298 [==============================] - 1s 4ms/step\n",
      "33/33 [==============================] - 0s 4ms/step\n",
      "5/5 [==============================] - 0s 4ms/step\n",
      "298/298 [==============================] - 1s 4ms/step\n",
      "33/33 [==============================] - 0s 4ms/step\n",
      "5/5 [==============================] - 0s 4ms/step\n",
      "298/298 [==============================] - 1s 4ms/step\n",
      "33/33 [==============================] - 0s 4ms/step\n",
      "5/5 [==============================] - 0s 4ms/step\n",
      "298/298 [==============================] - 1s 4ms/step\n",
      "33/33 [==============================] - 0s 4ms/step\n",
      "5/5 [==============================] - 0s 4ms/step\n",
      "298/298 [==============================] - 1s 4ms/step\n",
      "33/33 [==============================] - 0s 4ms/step\n",
      "5/5 [==============================] - 0s 4ms/step\n",
      "298/298 [==============================] - 1s 4ms/step\n",
      "33/33 [==============================] - 0s 4ms/step\n",
      "5/5 [==============================] - 0s 4ms/step\n",
      "298/298 [==============================] - 2s 4ms/step\n",
      "33/33 [==============================] - 0s 4ms/step\n",
      "5/5 [==============================] - 0s 4ms/step\n",
      "298/298 [==============================] - 1s 4ms/step\n",
      "33/33 [==============================] - 0s 4ms/step\n",
      "5/5 [==============================] - 0s 4ms/step\n",
      "298/298 [==============================] - 1s 4ms/step\n",
      "33/33 [==============================] - 0s 4ms/step\n",
      "5/5 [==============================] - 0s 4ms/step\n",
      "298/298 [==============================] - 1s 4ms/step\n",
      "33/33 [==============================] - 0s 4ms/step\n",
      "5/5 [==============================] - 0s 4ms/step\n",
      "298/298 [==============================] - 1s 4ms/step\n",
      "33/33 [==============================] - 0s 4ms/step\n",
      "5/5 [==============================] - 0s 4ms/step\n",
      "298/298 [==============================] - 1s 4ms/step\n",
      "33/33 [==============================] - 0s 4ms/step\n",
      "5/5 [==============================] - 0s 4ms/step\n",
      "298/298 [==============================] - 1s 4ms/step\n",
      "33/33 [==============================] - 0s 5ms/step\n",
      "5/5 [==============================] - 0s 5ms/step\n",
      "298/298 [==============================] - 1s 4ms/step\n",
      "33/33 [==============================] - 0s 4ms/step\n",
      "5/5 [==============================] - 0s 4ms/step\n",
      "298/298 [==============================] - 1s 4ms/step\n",
      "33/33 [==============================] - 0s 4ms/step\n",
      "5/5 [==============================] - 0s 4ms/step\n"
     ]
    }
   ],
   "source": [
    "bestpatterns = np.empty((len(lat),len(lon),nmodels,len(seedlist)))\n",
    "obscorr = np.empty((nmodels,len(seedlist)))\n",
    "leaveoutcorr = np.empty((nmodels,len(seedlist),ntestmems))\n",
    "\n",
    "for imodel,cmodel in enumerate(modellist):\n",
    "\n",
    "    inputval_short = reshapengrab_input(inputval,imodel,len(valvariants))\n",
    "    outputdata_short = reshapengrab_input(outputdata,imodel,len(trainvariants))\n",
    "    outputval_short = reshapengrab_input(outputval,imodel,len(valvariants))\n",
    "    \n",
    "    outputstd_new = np.std(outputdata_short,axis=0,keepdims=True)\n",
    "    \n",
    "    outputdata_short = outputdata_short/outputstd_new\n",
    "    outputval_short = outputval_short/outputstd_new\n",
    "    outputdata_short[:, np.isnan(np.mean(outputdata_short, axis=0))] = 0\n",
    "    outputval_short[:, np.isnan(np.mean(outputval_short, axis=0))] = 0\n",
    "    \n",
    "    title = \"leave out \" + cmodel\n",
    "\n",
    "    inputtest_leftout = reshapengrab(inputtest,imodel,nmodels,len(testvariants))\n",
    "    outputtest_leftout = reshapengrab(outputtest,imodel,nmodels,len(testvariants))\n",
    "    outputtest_leftout = outputtest_leftout/outputstd_new\n",
    "    outputtest_leftout[:,np.isnan(np.mean(outputtest_leftout,axis=0))] = 0\n",
    "    \n",
    "    for iseed,random_seed in enumerate(seedlist):\n",
    "    \n",
    "        fileout = filename + \"_seed=\" + str(random_seed) + \"_NO_\" + cmodel +\".h5\"\n",
    "            \n",
    "        tf.random.set_seed(random_seed)\n",
    "        np.random.seed(random_seed)\n",
    "        \n",
    "        full_model = build_model.build_CNN_full(inputval_short, outputval_short, \n",
    "                                                        experiment_dict, random_seed)   \n",
    "        \n",
    "        full_model.compile(optimizer=tf.keras.optimizers.legacy.SGD(experiment_dict[\"learning_rate\"]),  # optimizer\n",
    "                           )\n",
    "        \n",
    "        full_model.load_weights(fileout)\n",
    "        \n",
    "        full_model.trainable = False # freeze BN\n",
    "        \n",
    "        y_pred_val = full_model.predict(inputval_short)\n",
    "        y_pred_test_leftout = full_model.predict(inputtest_leftout,verbose=0)\n",
    "\n",
    "        bestpattern = allthelinalg.calculate_SC(y_pred_val,outputval_short,landmask)  \n",
    "        bestpatterns[:,:,imodel,iseed] = bestpattern\n",
    "\n",
    "        for imem in range(ntestmems):\n",
    "                outputtest_singlemem = outputtest_leftout[ntimesteps*imem:ntimesteps*(imem+1)]\n",
    "                y_pred_test_singlemem = y_pred_test_leftout[ntimesteps*imem:ntimesteps*(imem+1)]\n",
    "        \n",
    "                leaveoutcorr[imodel,iseed,imem],_ = allthelinalg.corr_indextimeseries(\n",
    "                    bestpattern,outputtest_singlemem,y_pred_test_singlemem,outputval,y_pred_val,landmask)\n",
    "\n",
    "        y_pred_obs = full_model.predict(inputobs,verbose=0)\n",
    "        obscorr[imodel,iseed],_ = allthelinalg.corr_indextimeseries(\n",
    "                    bestpattern,outputobs,y_pred_obs,outputval,y_pred_val,landmask)\n",
    "        "
   ]
  },
  {
   "cell_type": "code",
   "execution_count": 53,
   "id": "3cad5733-785b-4711-9f77-77679d22836a",
   "metadata": {},
   "outputs": [
    {
     "data": {
      "image/png": "[encoded data removed]",
      "text/plain": [
       "<Figure size 1500x600 with 1 Axes>"
      ]
     },
     "metadata": {},
     "output_type": "display_data"
    }
   ],
   "source": [
    "analysisplots.prettyscatterplot_multiobs(leaveoutcorr[:,0,:],obscorr[:,0],modellist,testvariants,\"correlation coefficient\")"
   ]
  },
  {
   "cell_type": "code",
   "execution_count": null,
   "id": "0d865db6-70ad-4b79-bdcb-da849276cbae",
   "metadata": {},
   "outputs": [],
   "source": [
    "18774/149"
   ]
  },
  {
   "cell_type": "code",
   "execution_count": null,
   "id": "c14d2c88-c802-44b4-886c-8a8bf16fc13f",
   "metadata": {},
   "outputs": [],
   "source": [
    "126/9"
   ]
  },
  {
   "cell_type": "code",
   "execution_count": 10,
   "id": "d920a63f-fa28-4792-8607-15039a4bf618",
   "metadata": {},
   "outputs": [
    {
     "data": {
      "text/plain": [
       "(9387, 45, 90, 2)"
      ]
     },
     "execution_count": 10,
     "metadata": {},
     "output_type": "execute_result"
    }
   ],
   "source": [
    "inputtest.shape"
   ]
  },
  {
   "cell_type": "code",
   "execution_count": 15,
   "id": "6817accd-b2a1-45c2-90a6-ce1a55d22a37",
   "metadata": {},
   "outputs": [
    {
     "data": {
      "text/plain": [
       "187740.0"
      ]
     },
     "execution_count": 15,
     "metadata": {},
     "output_type": "execute_result"
    }
   ],
   "source": [
    "8448300/45"
   ]
  },
  {
   "cell_type": "code",
   "execution_count": 16,
   "id": "7e3cdf58-5d03-4d52-b257-af41df34ec40",
   "metadata": {},
   "outputs": [
    {
     "data": {
      "text/plain": [
       "2086.0"
      ]
     },
     "execution_count": 16,
     "metadata": {},
     "output_type": "execute_result"
    }
   ],
   "source": [
    "187740/90"
   ]
  },
  {
   "cell_type": "code",
   "execution_count": 39,
   "id": "fe005ff2-b616-4785-9002-cf2f0a4ddd05",
   "metadata": {},
   "outputs": [
    {
     "data": {
      "text/plain": [
       "'models/allcmodel-tos_allcmodel-tos_1-5yearlead_leaveoneout_seed=5974863_NO_NorCPM1.h5'"
      ]
     },
     "execution_count": 39,
     "metadata": {},
     "output_type": "execute_result"
    }
   ],
   "source": [
    "fileout"
   ]
  },
  {
   "cell_type": "code",
   "execution_count": null,
   "id": "cb5a459c-83e7-4094-aac4-88f47af75c0b",
   "metadata": {},
   "outputs": [],
   "source": []
  }
 ],
 "metadata": {
  "kernelspec": {
   "display_name": "Python 3 (ipykernel)",
   "language": "python",
   "name": "python3"
  },
  "language_info": {
   "codemirror_mode": {
    "name": "ipython",
    "version": 3
   },
   "file_extension": ".py",
   "mimetype": "text/x-python",
   "name": "python",
   "nbconvert_exporter": "python",
   "pygments_lexer": "ipython3",
   "version": "3.9.18"
  }
 },
 "nbformat": 4,
 "nbformat_minor": 5
}
