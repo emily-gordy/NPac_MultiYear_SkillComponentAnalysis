{
 "cells": [
  {
   "cell_type": "code",
   "execution_count": 1,
   "id": "6ec3d0fe-4d5b-445a-9d95-8f1f82ee0b70",
   "metadata": {},
   "outputs": [],
   "source": [
    "import numpy as np\n",
    "import pickle as pkl\n",
    "\n",
    "import tensorflow as tf\n",
    "\n",
    "import matplotlib.pyplot as plt\n",
    "import matplotlib as mpl\n",
    "\n",
    "import sys\n",
    "sys.path.append(\"../functions/\")\n",
    "\n",
    "import preprocessing\n",
    "import experiment_settings\n",
    "import build_model\n",
    "import metricplots\n",
    "import allthelinalg\n",
    "import analysisplots\n",
    "\n",
    "# pretty plots\n",
    "mpl.rcParams['figure.facecolor'] = 'white'\n",
    "mpl.rcParams['figure.dpi'] = 150\n",
    "mpl.rcParams['font.family'] = 'sans-serif'\n",
    "mpl.rcParams['font.size'] = 12\n",
    "mpl.rcParams['font.sans-serif']=['Verdana']\n",
    "\n",
    "params = {\"ytick.color\": \"k\",\n",
    "          \"xtick.color\": \"k\",\n",
    "          \"axes.labelcolor\": \"k\",\n",
    "          \"axes.edgecolor\": \"k\"}\n",
    "plt.rcParams.update(params)\n"
   ]
  },
  {
   "cell_type": "code",
   "execution_count": 2,
   "id": "552e5ea1-5ddb-43b1-8db0-8db4665fe6ff",
   "metadata": {},
   "outputs": [],
   "source": [
    "modelpath = \"../models/\"\n",
    "experiment_name = \"allcmodel-tos_allcmodel-tos_1-5yearlead_tvtfolds\"\n",
    "experiment_dict = experiment_settings.get_experiment_settings(experiment_name)\n",
    "\n",
    "filefront = experiment_dict[\"filename\"]\n",
    "filename = modelpath + experiment_dict[\"filename\"]\n",
    "\n",
    "ntrainvariants = experiment_dict[\"ntrainvariants\"]\n",
    "nvalvariants = experiment_dict[\"nvalvariants\"]\n",
    "ntestvariants = experiment_dict[\"ntestvariants\"]\n",
    "\n",
    "foldseeds = experiment_dict[\"foldseeds\"]"
   ]
  },
  {
   "cell_type": "code",
   "execution_count": 3,
   "id": "01b385c9-3ad0-4a17-ac37-02f81fe18ea7",
   "metadata": {},
   "outputs": [],
   "source": [
    "data_experiment_name = \"allcmodel-tos_allcmodel-tos_1-5yearlead\"\n",
    "data_experiment_dict = experiment_settings.get_experiment_settings(data_experiment_name)\n",
    "datafilefront = data_experiment_dict[\"filename\"]\n",
    "datafile = \"../processed_data/\" + datafilefront + \".npz\"\n",
    "\n",
    "datamat = np.load(datafile)\n",
    "\n",
    "allinputdata = datamat[\"allinputdata\"]\n",
    "alloutputdata = datamat[\"alloutputdata\"] "
   ]
  },
  {
   "cell_type": "code",
   "execution_count": null,
   "id": "a3acedbf-3221-4b7a-ba33-0396fd25ae53",
   "metadata": {},
   "outputs": [],
   "source": []
  }
 ],
 "metadata": {
  "kernelspec": {
   "display_name": "Python 3 (ipykernel)",
   "language": "python",
   "name": "python3"
  },
  "language_info": {
   "codemirror_mode": {
    "name": "ipython",
    "version": 3
   },
   "file_extension": ".py",
   "mimetype": "text/x-python",
   "name": "python",
   "nbconvert_exporter": "python",
   "pygments_lexer": "ipython3",
   "version": "3.9.18"
  }
 },
 "nbformat": 4,
 "nbformat_minor": 5
}
